{
 "cells": [
  {
   "cell_type": "code",
   "execution_count": 2,
   "metadata": {},
   "outputs": [],
   "source": [
    "from pymongo import MongoClient\n",
    "from pymongo.errors import ConnectionFailure"
   ]
  },
  {
   "cell_type": "code",
   "execution_count": 5,
   "metadata": {},
   "outputs": [],
   "source": [
    "client = MongoClient('localhost')"
   ]
  },
  {
   "cell_type": "code",
   "execution_count": 13,
   "metadata": {},
   "outputs": [
    {
     "data": {
      "text/plain": [
       "['admin', 'business_verification', 'config', 'local', 'test_db']"
      ]
     },
     "execution_count": 13,
     "metadata": {},
     "output_type": "execute_result"
    }
   ],
   "source": [
    "client.list_database_names()"
   ]
  },
  {
   "cell_type": "code",
   "execution_count": 16,
   "metadata": {},
   "outputs": [],
   "source": [
    "db = client[\"test_db\"]"
   ]
  },
  {
   "cell_type": "code",
   "execution_count": 17,
   "metadata": {},
   "outputs": [
    {
     "data": {
      "text/plain": [
       "['test_col']"
      ]
     },
     "execution_count": 17,
     "metadata": {},
     "output_type": "execute_result"
    }
   ],
   "source": [
    "db.list_collection_names()"
   ]
  },
  {
   "cell_type": "code",
   "execution_count": 18,
   "metadata": {},
   "outputs": [],
   "source": [
    "col = db['test_col']"
   ]
  },
  {
   "cell_type": "code",
   "execution_count": 19,
   "metadata": {},
   "outputs": [],
   "source": [
    "mydict = { \"name\": \"John\", \"address\": \"Highway 37\" }\n",
    "x = col.insert_one(mydict)"
   ]
  },
  {
   "cell_type": "code",
   "execution_count": 20,
   "metadata": {},
   "outputs": [
    {
     "data": {
      "text/plain": [
       "ObjectId('5df875d2d4c40d46ca35fbcc')"
      ]
     },
     "execution_count": 20,
     "metadata": {},
     "output_type": "execute_result"
    }
   ],
   "source": [
    "x.inserted_id"
   ]
  },
  {
   "cell_type": "code",
   "execution_count": 21,
   "metadata": {},
   "outputs": [],
   "source": [
    "mylist = [\n",
    "  { \"name\": \"Amy\", \"address\": \"Apple st 652\"},\n",
    "  { \"name\": \"Hannah\", \"address\": \"Mountain 21\"},\n",
    "  { \"name\": \"Michael\", \"address\": \"Valley 345\"},\n",
    "  { \"name\": \"Sandy\", \"address\": \"Ocean blvd 2\"},\n",
    "  { \"name\": \"Betty\", \"address\": \"Green Grass 1\"},\n",
    "  { \"name\": \"Richard\", \"address\": \"Sky st 331\"},\n",
    "  { \"name\": \"Susan\", \"address\": \"One way 98\"},\n",
    "  { \"name\": \"Vicky\", \"address\": \"Yellow Garden 2\"},\n",
    "  { \"name\": \"Ben\", \"address\": \"Park Lane 38\"},\n",
    "  { \"name\": \"William\", \"address\": \"Central st 954\"},\n",
    "  { \"name\": \"Chuck\", \"address\": \"Main Road 989\"},\n",
    "  { \"name\": \"Viola\", \"address\": \"Sideway 1633\"}\n",
    "]\n",
    "\n",
    "x = col.insert_many(mylist)"
   ]
  },
  {
   "cell_type": "code",
   "execution_count": 22,
   "metadata": {},
   "outputs": [
    {
     "data": {
      "text/plain": [
       "[ObjectId('5df87607d4c40d46ca35fbcd'),\n",
       " ObjectId('5df87607d4c40d46ca35fbce'),\n",
       " ObjectId('5df87607d4c40d46ca35fbcf'),\n",
       " ObjectId('5df87607d4c40d46ca35fbd0'),\n",
       " ObjectId('5df87607d4c40d46ca35fbd1'),\n",
       " ObjectId('5df87607d4c40d46ca35fbd2'),\n",
       " ObjectId('5df87607d4c40d46ca35fbd3'),\n",
       " ObjectId('5df87607d4c40d46ca35fbd4'),\n",
       " ObjectId('5df87607d4c40d46ca35fbd5'),\n",
       " ObjectId('5df87607d4c40d46ca35fbd6'),\n",
       " ObjectId('5df87607d4c40d46ca35fbd7'),\n",
       " ObjectId('5df87607d4c40d46ca35fbd8')]"
      ]
     },
     "execution_count": 22,
     "metadata": {},
     "output_type": "execute_result"
    }
   ],
   "source": [
    "x.inserted_ids"
   ]
  },
  {
   "cell_type": "code",
   "execution_count": 23,
   "metadata": {},
   "outputs": [
    {
     "data": {
      "text/plain": [
       "{'_id': ObjectId('5df083163f6d198050eab307'),\n",
       " 'author': 'Mike',\n",
       " 'text': 'something is here',\n",
       " 'tags': ['first', 'second', 'third'],\n",
       " 'address': 'new_street123',\n",
       " 'amount': 45}"
      ]
     },
     "execution_count": 23,
     "metadata": {},
     "output_type": "execute_result"
    }
   ],
   "source": [
    "col.find_one()"
   ]
  },
  {
   "cell_type": "code",
   "execution_count": 24,
   "metadata": {},
   "outputs": [
    {
     "name": "stdout",
     "output_type": "stream",
     "text": [
      "{'_id': ObjectId('5df083163f6d198050eab307'), 'author': 'Mike', 'text': 'something is here', 'tags': ['first', 'second', 'third'], 'address': 'new_street123', 'amount': 45}\n",
      "{'_id': ObjectId('5df875d2d4c40d46ca35fbcc'), 'name': 'John', 'address': 'Highway 37'}\n",
      "{'_id': ObjectId('5df87607d4c40d46ca35fbcd'), 'name': 'Amy', 'address': 'Apple st 652'}\n",
      "{'_id': ObjectId('5df87607d4c40d46ca35fbce'), 'name': 'Hannah', 'address': 'Mountain 21'}\n",
      "{'_id': ObjectId('5df87607d4c40d46ca35fbcf'), 'name': 'Michael', 'address': 'Valley 345'}\n",
      "{'_id': ObjectId('5df87607d4c40d46ca35fbd0'), 'name': 'Sandy', 'address': 'Ocean blvd 2'}\n",
      "{'_id': ObjectId('5df87607d4c40d46ca35fbd1'), 'name': 'Betty', 'address': 'Green Grass 1'}\n",
      "{'_id': ObjectId('5df87607d4c40d46ca35fbd2'), 'name': 'Richard', 'address': 'Sky st 331'}\n",
      "{'_id': ObjectId('5df87607d4c40d46ca35fbd3'), 'name': 'Susan', 'address': 'One way 98'}\n",
      "{'_id': ObjectId('5df87607d4c40d46ca35fbd4'), 'name': 'Vicky', 'address': 'Yellow Garden 2'}\n",
      "{'_id': ObjectId('5df87607d4c40d46ca35fbd5'), 'name': 'Ben', 'address': 'Park Lane 38'}\n",
      "{'_id': ObjectId('5df87607d4c40d46ca35fbd6'), 'name': 'William', 'address': 'Central st 954'}\n",
      "{'_id': ObjectId('5df87607d4c40d46ca35fbd7'), 'name': 'Chuck', 'address': 'Main Road 989'}\n",
      "{'_id': ObjectId('5df87607d4c40d46ca35fbd8'), 'name': 'Viola', 'address': 'Sideway 1633'}\n"
     ]
    }
   ],
   "source": [
    "for x in col.find():\n",
    "    print(x)"
   ]
  },
  {
   "cell_type": "markdown",
   "metadata": {},
   "source": [
    "## Limit Columns/Keys"
   ]
  },
  {
   "cell_type": "code",
   "execution_count": 27,
   "metadata": {},
   "outputs": [
    {
     "name": "stdout",
     "output_type": "stream",
     "text": [
      "{'address': 'new_street123'}\n",
      "{'name': 'John', 'address': 'Highway 37'}\n",
      "{'name': 'Amy', 'address': 'Apple st 652'}\n",
      "{'name': 'Hannah', 'address': 'Mountain 21'}\n",
      "{'name': 'Michael', 'address': 'Valley 345'}\n",
      "{'name': 'Sandy', 'address': 'Ocean blvd 2'}\n",
      "{'name': 'Betty', 'address': 'Green Grass 1'}\n",
      "{'name': 'Richard', 'address': 'Sky st 331'}\n",
      "{'name': 'Susan', 'address': 'One way 98'}\n",
      "{'name': 'Vicky', 'address': 'Yellow Garden 2'}\n",
      "{'name': 'Ben', 'address': 'Park Lane 38'}\n",
      "{'name': 'William', 'address': 'Central st 954'}\n",
      "{'name': 'Chuck', 'address': 'Main Road 989'}\n",
      "{'name': 'Viola', 'address': 'Sideway 1633'}\n"
     ]
    }
   ],
   "source": [
    "for x in col.find({}, {\"_id\":0, \"name\":1, \"address\":1}):\n",
    "    print(x)"
   ]
  },
  {
   "cell_type": "code",
   "execution_count": 29,
   "metadata": {},
   "outputs": [
    {
     "name": "stdout",
     "output_type": "stream",
     "text": [
      "{'_id': ObjectId('5df87607d4c40d46ca35fbd5'), 'name': 'Ben', 'address': 'Park Lane 38'}\n"
     ]
    }
   ],
   "source": [
    "for x in col.find({\"address\": \"Park Lane 38\"}):\n",
    "    print(x)"
   ]
  },
  {
   "cell_type": "markdown",
   "metadata": {},
   "source": [
    "## Regex Search"
   ]
  },
  {
   "cell_type": "code",
   "execution_count": 30,
   "metadata": {},
   "outputs": [
    {
     "name": "stdout",
     "output_type": "stream",
     "text": [
      "{'_id': ObjectId('5df87607d4c40d46ca35fbd2'), 'name': 'Richard', 'address': 'Sky st 331'}\n",
      "{'_id': ObjectId('5df87607d4c40d46ca35fbd8'), 'name': 'Viola', 'address': 'Sideway 1633'}\n"
     ]
    }
   ],
   "source": [
    "for x in col.find({\"address\": {\"$regex\": \"^S\"}}):\n",
    "    print(x)"
   ]
  },
  {
   "cell_type": "markdown",
   "metadata": {},
   "source": [
    "## Sort via name"
   ]
  },
  {
   "cell_type": "code",
   "execution_count": 33,
   "metadata": {},
   "outputs": [
    {
     "name": "stdout",
     "output_type": "stream",
     "text": [
      "{'_id': ObjectId('5df87607d4c40d46ca35fbd6'), 'name': 'William', 'address': 'Central st 954'}\n",
      "{'_id': ObjectId('5df87607d4c40d46ca35fbd8'), 'name': 'Viola', 'address': 'Sideway 1633'}\n",
      "{'_id': ObjectId('5df87607d4c40d46ca35fbd4'), 'name': 'Vicky', 'address': 'Yellow Garden 2'}\n",
      "{'_id': ObjectId('5df87607d4c40d46ca35fbd3'), 'name': 'Susan', 'address': 'One way 98'}\n",
      "{'_id': ObjectId('5df87607d4c40d46ca35fbd0'), 'name': 'Sandy', 'address': 'Ocean blvd 2'}\n",
      "{'_id': ObjectId('5df87607d4c40d46ca35fbd2'), 'name': 'Richard', 'address': 'Sky st 331'}\n",
      "{'_id': ObjectId('5df87607d4c40d46ca35fbcf'), 'name': 'Michael', 'address': 'Valley 345'}\n",
      "{'_id': ObjectId('5df875d2d4c40d46ca35fbcc'), 'name': 'John', 'address': 'Highway 37'}\n",
      "{'_id': ObjectId('5df87607d4c40d46ca35fbce'), 'name': 'Hannah', 'address': 'Mountain 21'}\n",
      "{'_id': ObjectId('5df87607d4c40d46ca35fbd7'), 'name': 'Chuck', 'address': 'Main Road 989'}\n",
      "{'_id': ObjectId('5df87607d4c40d46ca35fbd1'), 'name': 'Betty', 'address': 'Green Grass 1'}\n",
      "{'_id': ObjectId('5df87607d4c40d46ca35fbd5'), 'name': 'Ben', 'address': 'Park Lane 38'}\n",
      "{'_id': ObjectId('5df87607d4c40d46ca35fbcd'), 'name': 'Amy', 'address': 'Apple st 652'}\n",
      "{'_id': ObjectId('5df083163f6d198050eab307'), 'author': 'Mike', 'text': 'something is here', 'tags': ['first', 'second', 'third'], 'address': 'new_street123', 'amount': 45}\n"
     ]
    }
   ],
   "source": [
    "for x in col.find().sort('name', -1):\n",
    "    print(x)"
   ]
  },
  {
   "cell_type": "code",
   "execution_count": 34,
   "metadata": {},
   "outputs": [],
   "source": [
    "x = col.delete_one({\"address\": \"Mountain 21\"})"
   ]
  },
  {
   "cell_type": "markdown",
   "metadata": {},
   "source": [
    "## delete collection"
   ]
  },
  {
   "cell_type": "code",
   "execution_count": 36,
   "metadata": {},
   "outputs": [],
   "source": [
    "# col.drop()"
   ]
  },
  {
   "cell_type": "markdown",
   "metadata": {},
   "source": [
    "## Update collection"
   ]
  },
  {
   "cell_type": "code",
   "execution_count": 39,
   "metadata": {},
   "outputs": [
    {
     "name": "stdout",
     "output_type": "stream",
     "text": [
      "1 documents updated.\n"
     ]
    }
   ],
   "source": [
    "myquery = { \"address\": { \"$regex\": \"^P\" } }\n",
    "newvalues = { \"$set\": { \"name\": \"Minn\" } }\n",
    "\n",
    "x = col.update_many(myquery, newvalues)\n",
    "\n",
    "print(x.modified_count, \"documents updated.\")"
   ]
  },
  {
   "cell_type": "code",
   "execution_count": 40,
   "metadata": {},
   "outputs": [
    {
     "name": "stdout",
     "output_type": "stream",
     "text": [
      "{'_id': ObjectId('5df083163f6d198050eab307'), 'author': 'Mike', 'text': 'something is here', 'tags': ['first', 'second', 'third'], 'address': 'new_street123', 'amount': 45}\n",
      "{'_id': ObjectId('5df875d2d4c40d46ca35fbcc'), 'name': 'John', 'address': 'Highway 37'}\n",
      "{'_id': ObjectId('5df87607d4c40d46ca35fbcd'), 'name': 'Amy', 'address': 'Apple st 652'}\n",
      "{'_id': ObjectId('5df87607d4c40d46ca35fbcf'), 'name': 'Michael', 'address': 'Valley 345'}\n",
      "{'_id': ObjectId('5df87607d4c40d46ca35fbd0'), 'name': 'Sandy', 'address': 'Ocean blvd 2'}\n"
     ]
    }
   ],
   "source": [
    "for x in col.find().limit(5):\n",
    "    print(x)"
   ]
  },
  {
   "cell_type": "markdown",
   "metadata": {},
   "source": [
    "## Find in nested objects"
   ]
  },
  {
   "cell_type": "code",
   "execution_count": null,
   "metadata": {},
   "outputs": [],
   "source": [
    "{\n",
    "    id:\"\",\n",
    "    \"comp\":[\n",
    "        {\n",
    "            \"score\":12,\n",
    "            \"name\":\"Some\",\n",
    "            \"id\":23243\n",
    "        },\n",
    "        {\n",
    "            \"score\":12,\n",
    "            \"name\":\"Come1\",\n",
    "            \"id\":232\n",
    "        }\n",
    "    ]\n",
    "}\n",
    "\n",
    "db.getCollection('comp').find({\"comp.name\":{\"$regex\":\"^Some\"}})"
   ]
  },
  {
   "cell_type": "markdown",
   "metadata": {},
   "source": [
    "## Find substring"
   ]
  },
  {
   "cell_type": "code",
   "execution_count": null,
   "metadata": {},
   "outputs": [],
   "source": [
    "# find the substring and and $i is for case insensitive\n",
    "db.getCollection('comp').find({\"comp.name\":{\"$regex\":\"and\", \"$options\":\"$i\"}})"
   ]
  },
  {
   "cell_type": "markdown",
   "metadata": {},
   "source": [
    "## Distinct entries"
   ]
  },
  {
   "cell_type": "code",
   "execution_count": null,
   "metadata": {},
   "outputs": [],
   "source": [
    "# gives unique names of companies\n",
    "db.getCollection('company_search').distinct(\"comp.name\")"
   ]
  }
 ],
 "metadata": {
  "kernelspec": {
   "display_name": "Python 3",
   "language": "python",
   "name": "python3"
  },
  "language_info": {
   "codemirror_mode": {
    "name": "ipython",
    "version": 3
   },
   "file_extension": ".py",
   "mimetype": "text/x-python",
   "name": "python",
   "nbconvert_exporter": "python",
   "pygments_lexer": "ipython3",
   "version": "3.7.5"
  }
 },
 "nbformat": 4,
 "nbformat_minor": 2
}
